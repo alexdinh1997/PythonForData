{
    "cells": [
        {
            "metadata": {
                "collapsed": true
            },
            "cell_type": "markdown",
            "source": "<h1>Reading Files Python</h1>"
        },
        {
            "metadata": {},
            "cell_type": "code",
            "source": "import os",
            "execution_count": 4,
            "outputs": []
        },
        {
            "metadata": {},
            "cell_type": "code",
            "source": "os.listdir()",
            "execution_count": 5,
            "outputs": [
                {
                    "output_type": "execute_result",
                    "execution_count": 5,
                    "data": {
                        "text/plain": "[]"
                    },
                    "metadata": {}
                }
            ]
        },
        {
            "metadata": {},
            "cell_type": "code",
            "source": "dir\n",
            "execution_count": 6,
            "outputs": [
                {
                    "output_type": "execute_result",
                    "execution_count": 6,
                    "data": {
                        "text/plain": "<function dir>"
                    },
                    "metadata": {}
                }
            ]
        },
        {
            "metadata": {
                "scrolled": true
            },
            "cell_type": "code",
            "source": "dir /resources/data/Example1.txt",
            "execution_count": 7,
            "outputs": [
                {
                    "output_type": "error",
                    "ename": "NameError",
                    "evalue": "name 'resources' is not defined",
                    "traceback": [
                        "\u001b[0;31m---------------------------------------------------------------------------\u001b[0m",
                        "\u001b[0;31mNameError\u001b[0m                                 Traceback (most recent call last)",
                        "\u001b[0;32m<ipython-input-7-e1ef4b6ca04e>\u001b[0m in \u001b[0;36m<module>\u001b[0;34m\u001b[0m\n\u001b[0;32m----> 1\u001b[0;31m \u001b[0mdir\u001b[0m \u001b[0;34m/\u001b[0m\u001b[0mresources\u001b[0m\u001b[0;34m/\u001b[0m\u001b[0mdata\u001b[0m\u001b[0;34m/\u001b[0m\u001b[0mExample1\u001b[0m\u001b[0;34m.\u001b[0m\u001b[0mtxt\u001b[0m\u001b[0;34m\u001b[0m\u001b[0;34m\u001b[0m\u001b[0m\n\u001b[0m",
                        "\u001b[0;31mNameError\u001b[0m: name 'resources' is not defined"
                    ]
                }
            ]
        },
        {
            "metadata": {},
            "cell_type": "code",
            "source": "os.mkdir('resources')",
            "execution_count": 9,
            "outputs": []
        },
        {
            "metadata": {},
            "cell_type": "code",
            "source": "os.mkdir('resources/data')",
            "execution_count": 10,
            "outputs": []
        },
        {
            "metadata": {},
            "cell_type": "code",
            "source": "os.mknod('resources/data/Example1.txt')",
            "execution_count": 11,
            "outputs": []
        },
        {
            "metadata": {},
            "cell_type": "code",
            "source": "# Download Example file\n\n!wget -O /resources/data/Example1.txt https://s3-api.us-geo.objectstorage.softlayer.net/cf-courses-data/CognitiveClass/PY0101EN/labs/example1.txt",
            "execution_count": 12,
            "outputs": [
                {
                    "output_type": "stream",
                    "text": "/resources/data/Example1.txt: No such file or directory\r\n",
                    "name": "stdout"
                }
            ]
        },
        {
            "metadata": {},
            "cell_type": "code",
            "source": "# Download Example file\n\n!wget -O resources/data/Example1.txt https://s3-api.us-geo.objectstorage.softlayer.net/cf-courses-data/CognitiveClass/PY0101EN/labs/example1.txt",
            "execution_count": 13,
            "outputs": [
                {
                    "output_type": "stream",
                    "text": "--2020-11-17 09:49:57--  https://s3-api.us-geo.objectstorage.softlayer.net/cf-courses-data/CognitiveClass/PY0101EN/labs/example1.txt\nResolving s3-api.us-geo.objectstorage.softlayer.net (s3-api.us-geo.objectstorage.softlayer.net)... 67.228.254.196\nConnecting to s3-api.us-geo.objectstorage.softlayer.net (s3-api.us-geo.objectstorage.softlayer.net)|67.228.254.196|:443... connected.\nHTTP request sent, awaiting response... 200 OK\nLength: 45 [text/plain]\nSaving to: \u2018resources/data/Example1.txt\u2019\n\nresources/data/Exam 100%[===================>]      45  --.-KB/s    in 0s      \n\n2020-11-17 09:49:57 (12.3 MB/s) - \u2018resources/data/Example1.txt\u2019 saved [45/45]\n\n",
                    "name": "stdout"
                }
            ]
        },
        {
            "metadata": {},
            "cell_type": "code",
            "source": "# Read the Example1.txt\n\nexample1 = \"resources/data/Example1.txt\"\nfile1 = open(example1, \"r\")",
            "execution_count": 15,
            "outputs": []
        },
        {
            "metadata": {},
            "cell_type": "code",
            "source": "file1.name",
            "execution_count": 18,
            "outputs": [
                {
                    "output_type": "execute_result",
                    "execution_count": 18,
                    "data": {
                        "text/plain": "'resources/data/Example1.txt'"
                    },
                    "metadata": {}
                }
            ]
        },
        {
            "metadata": {},
            "cell_type": "code",
            "source": "file1.mode",
            "execution_count": 19,
            "outputs": [
                {
                    "output_type": "execute_result",
                    "execution_count": 19,
                    "data": {
                        "text/plain": "'r'"
                    },
                    "metadata": {}
                }
            ]
        },
        {
            "metadata": {},
            "cell_type": "code",
            "source": "#Read the file\n\nFileContent=file1.read()\nFileContent",
            "execution_count": 20,
            "outputs": [
                {
                    "output_type": "execute_result",
                    "execution_count": 20,
                    "data": {
                        "text/plain": "'This is line 1 \\nThis is line 2\\nThis is line 3'"
                    },
                    "metadata": {}
                }
            ]
        },
        {
            "metadata": {},
            "cell_type": "code",
            "source": "print(FileContent)",
            "execution_count": 21,
            "outputs": [
                {
                    "output_type": "stream",
                    "text": "This is line 1 \nThis is line 2\nThis is line 3\n",
                    "name": "stdout"
                }
            ]
        },
        {
            "metadata": {},
            "cell_type": "code",
            "source": "file1.close()",
            "execution_count": 22,
            "outputs": []
        },
        {
            "metadata": {},
            "cell_type": "code",
            "source": "# Open file using with\n\nwith open(example1, \"r\") as file1:\n    FileContent = file1.read()\n    \n    print(FileContent)",
            "execution_count": 23,
            "outputs": [
                {
                    "output_type": "stream",
                    "text": "This is line 1 \nThis is line 2\nThis is line 3\n",
                    "name": "stdout"
                }
            ]
        },
        {
            "metadata": {},
            "cell_type": "code",
            "source": "# Verify if the file is closed\n\nfile1.closed",
            "execution_count": 24,
            "outputs": [
                {
                    "output_type": "execute_result",
                    "execution_count": 24,
                    "data": {
                        "text/plain": "True"
                    },
                    "metadata": {}
                }
            ]
        },
        {
            "metadata": {},
            "cell_type": "code",
            "source": "# See the content of file\n\nprint(FileContent)",
            "execution_count": 25,
            "outputs": [
                {
                    "output_type": "stream",
                    "text": "This is line 1 \nThis is line 2\nThis is line 3\n",
                    "name": "stdout"
                }
            ]
        },
        {
            "metadata": {},
            "cell_type": "code",
            "source": "with open(example1, \"r\") as file1:\n    print(file1.read(4))",
            "execution_count": 27,
            "outputs": [
                {
                    "output_type": "stream",
                    "text": "This\n",
                    "name": "stdout"
                }
            ]
        },
        {
            "metadata": {},
            "cell_type": "code",
            "source": "with open(example1, \"r\") as file1:\n    print(file1.read(4))\n    print(file1.read(4))\n    print(file1.read(7))\n    print(file1.read(15))",
            "execution_count": 30,
            "outputs": [
                {
                    "output_type": "stream",
                    "text": "This\n is \nline 1 \n\nThis is line 2\n",
                    "name": "stdout"
                }
            ]
        },
        {
            "metadata": {},
            "cell_type": "code",
            "source": "# Read certain amount of characters\n\nwith open(example1, \"r\") as file1:\n    print(file1.read(16))\n    print(file1.read(5))\n    print(file1.read(9))",
            "execution_count": 31,
            "outputs": [
                {
                    "output_type": "stream",
                    "text": "This is line 1 \n\nThis \nis line 2\n",
                    "name": "stdout"
                }
            ]
        },
        {
            "metadata": {},
            "cell_type": "code",
            "source": "# Read one line\n\nwith open(example1, \"r\") as file1:\n    print(\"first line: \" + file1.readline())",
            "execution_count": 32,
            "outputs": [
                {
                    "output_type": "stream",
                    "text": "first line: This is line 1 \n\n",
                    "name": "stdout"
                }
            ]
        },
        {
            "metadata": {},
            "cell_type": "code",
            "source": "# Iterate through the lines\n\nwith open(example1,\"r\") as file1:\n        i = 0;\n        for line in file1:\n            print(\"Iteration\", str(i), \": \", line)\n            i = i + 1;",
            "execution_count": 35,
            "outputs": [
                {
                    "output_type": "stream",
                    "text": "Iteration 0 :  This is line 1 \n\nIteration 1 :  This is line 2\n\nIteration 2 :  This is line 3\n",
                    "name": "stdout"
                }
            ]
        },
        {
            "metadata": {},
            "cell_type": "code",
            "source": "# Read all lines and save as a list\n\nwith open(example1, \"r\") as file1:\n    FileasList = file1.readlines()",
            "execution_count": 36,
            "outputs": []
        },
        {
            "metadata": {},
            "cell_type": "code",
            "source": "# Print the first line\n\nFileasList[0]",
            "execution_count": 37,
            "outputs": [
                {
                    "output_type": "execute_result",
                    "execution_count": 37,
                    "data": {
                        "text/plain": "'This is line 1 \\n'"
                    },
                    "metadata": {}
                }
            ]
        },
        {
            "metadata": {},
            "cell_type": "markdown",
            "source": "<h1>Write and Save Files in Python</h1>"
        },
        {
            "metadata": {},
            "cell_type": "code",
            "source": "with open('resources/data/Example2.txt','w') as writefile:\n    writefile.write(\"this is line A\")",
            "execution_count": 39,
            "outputs": []
        },
        {
            "metadata": {},
            "cell_type": "code",
            "source": "with open('resources/data/Example2.txt','r') as testwritefile:\n    print(testwritefile.read())",
            "execution_count": 40,
            "outputs": [
                {
                    "output_type": "stream",
                    "text": "this is line A\n",
                    "name": "stdout"
                }
            ]
        },
        {
            "metadata": {},
            "cell_type": "code",
            "source": "with open('resources/data/Example2.txt','w') as writefile:\n    writefile.write(\"this is line A\\n\")\n    writefile.write(\"this is line B\\n\")",
            "execution_count": 41,
            "outputs": []
        },
        {
            "metadata": {},
            "cell_type": "code",
            "source": "with open('resources/data/Example2.txt','r') as testwritefile:\n    print(testwritefile.read())",
            "execution_count": 42,
            "outputs": [
                {
                    "output_type": "stream",
                    "text": "this is line A\nthis is line B\n\n",
                    "name": "stdout"
                }
            ]
        },
        {
            "metadata": {},
            "cell_type": "code",
            "source": "#write a new line to file\nwith open('resources/data/Example2.txt','a') as testwritefile:\n    testwritefile.write(\"this is line C\\n\")",
            "execution_count": 44,
            "outputs": []
        },
        {
            "metadata": {},
            "cell_type": "code",
            "source": "with open('resources/data/Example2.txt','r') as testwritefile:\n    print(testwritefile.read())",
            "execution_count": 45,
            "outputs": [
                {
                    "output_type": "stream",
                    "text": "this is line A\nthis is line B\nthis is line C\n\n",
                    "name": "stdout"
                }
            ]
        },
        {
            "metadata": {},
            "cell_type": "code",
            "source": "# Sample list of text\n\nLines = [\"This is line A\\n\", \"This is line B\\n\", \"This is line C\\n\"]\nLines",
            "execution_count": 46,
            "outputs": [
                {
                    "output_type": "execute_result",
                    "execution_count": 46,
                    "data": {
                        "text/plain": "['This is line A\\n', 'This is line B\\n', 'This is line C\\n']"
                    },
                    "metadata": {}
                }
            ]
        },
        {
            "metadata": {},
            "cell_type": "code",
            "source": "with open('Example2.txt','w') as writefile:\n    for line in Lines:\n        \n        writefile.write(line)",
            "execution_count": 50,
            "outputs": []
        },
        {
            "metadata": {},
            "cell_type": "code",
            "source": "# Verify if writing to file is successfully executed\n\nwith open('Example2.txt', 'r') as testwritefile:\n    print(testwritefile.read())",
            "execution_count": 51,
            "outputs": [
                {
                    "output_type": "stream",
                    "text": "This is line A\nThis is line B\nThis is line C\n\n",
                    "name": "stdout"
                }
            ]
        },
        {
            "metadata": {},
            "cell_type": "markdown",
            "source": "<h2 id=\"copy\">Copy a File</h2> "
        },
        {
            "metadata": {},
            "cell_type": "code",
            "source": "",
            "execution_count": null,
            "outputs": []
        }
    ],
    "metadata": {
        "kernelspec": {
            "name": "python3",
            "display_name": "Python 3.7",
            "language": "python"
        },
        "language_info": {
            "name": "python",
            "version": "3.7.9",
            "mimetype": "text/x-python",
            "codemirror_mode": {
                "name": "ipython",
                "version": 3
            },
            "pygments_lexer": "ipython3",
            "nbconvert_exporter": "python",
            "file_extension": ".py"
        }
    },
    "nbformat": 4,
    "nbformat_minor": 1
}