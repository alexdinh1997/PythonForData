{
 "cells": [
  {
   "cell_type": "code",
   "execution_count": 61,
   "metadata": {},
   "outputs": [
    {
     "name": "stdout",
     "output_type": "stream",
     "text": [
      "edoc si nuf \n"
     ]
    }
   ],
   "source": [
    "def ReverseString(x):\n",
    "    y=x.split(\" \") # we use this for split \" \" space out of words \n",
    "    result=\"\"\n",
    "    for i in range(len(y)):\n",
    "        result+=y[i][::-1]+\" \"\n",
    "    print(result)\n",
    "\n",
    "ReverseString(\"code is fun\")\n",
    "    \n",
    "#the output should be \"edoc si nuf"
   ]
  },
  {
   "cell_type": "code",
   "execution_count": 17,
   "metadata": {},
   "outputs": [
    {
     "data": {
      "text/plain": [
       "['hello', 'world']"
      ]
     },
     "execution_count": 17,
     "metadata": {},
     "output_type": "execute_result"
    }
   ],
   "source": [
    "a=\"hello world\".split(\" \")\n",
    "a"
   ]
  },
  {
   "cell_type": "code",
   "execution_count": 41,
   "metadata": {},
   "outputs": [
    {
     "data": {
      "text/plain": [
       "'dlrow'"
      ]
     },
     "execution_count": 41,
     "metadata": {},
     "output_type": "execute_result"
    }
   ],
   "source": [
    "a[1][::-1]"
   ]
  },
  {
   "cell_type": "code",
   "execution_count": 55,
   "metadata": {},
   "outputs": [
    {
     "name": "stdout",
     "output_type": "stream",
     "text": [
      "olleh dlrow \n"
     ]
    }
   ],
   "source": [
    "result =\"\"\n",
    "for i in range(2):\n",
    "        b=a[i][::-1]\n",
    "        result+=b+\" \"\n",
    "print(result)"
   ]
  },
  {
   "cell_type": "code",
   "execution_count": null,
   "metadata": {},
   "outputs": [],
   "source": [
    "#reverse string\n",
    "def ReverseString_1(x):\n",
    "    \n",
    "ReverseString_1([\"h\",\"e\",\"l\",\"l\",\"o\"])\n",
    "#the output should be [\"o\",\"l\",\"l\",\"e\",\"h\"]"
   ]
  },
  {
   "cell_type": "code",
   "execution_count": 73,
   "metadata": {},
   "outputs": [
    {
     "data": {
      "text/plain": [
       "['h', 'e', 'l', 'l', 'o']"
      ]
     },
     "execution_count": 73,
     "metadata": {},
     "output_type": "execute_result"
    }
   ],
   "source": [
    "x=[\"h\",\"e\",\"l\",\"l\",\"o\"]\n",
    "x"
   ]
  },
  {
   "cell_type": "code",
   "execution_count": 74,
   "metadata": {},
   "outputs": [
    {
     "name": "stdout",
     "output_type": "stream",
     "text": [
      "['o', 'l', 'l', 'h', 'e']\n"
     ]
    }
   ],
   "source": [
    "#two pointers i begin from x[0], j begin fromn x[-1]\n",
    "for i in range(len(x)):\n",
    "    for j in range(len(x)-1):\n",
    "        temp=x[i]\n",
    "        x[i]=x[j]\n",
    "        x[j]=temp\n",
    "print(x)        "
   ]
  },
  {
   "cell_type": "code",
   "execution_count": 77,
   "metadata": {},
   "outputs": [
    {
     "name": "stdout",
     "output_type": "stream",
     "text": [
      "4\n",
      "3278\n"
     ]
    }
   ],
   "source": [
    "#reverse an integer\n",
    "def ReverseInteger(num):\n",
    "    reverseNum = 0\n",
    "    while num > 0:\n",
    "        r=num % 10\n",
    "        reverseNum=reverseNum*10 + r\n",
    "        num = num//10\n",
    "    print(reverseNum)\n",
    "    \n",
    "ReverseInteger(400)\n",
    "ReverseInteger(8723)"
   ]
  },
  {
   "cell_type": "code",
   "execution_count": null,
   "metadata": {},
   "outputs": [],
   "source": []
  }
 ],
 "metadata": {
  "kernelspec": {
   "display_name": "Python 3",
   "language": "python",
   "name": "python3"
  },
  "language_info": {
   "codemirror_mode": {
    "name": "ipython",
    "version": 3
   },
   "file_extension": ".py",
   "mimetype": "text/x-python",
   "name": "python",
   "nbconvert_exporter": "python",
   "pygments_lexer": "ipython3",
   "version": "3.8.5"
  }
 },
 "nbformat": 4,
 "nbformat_minor": 4
}
