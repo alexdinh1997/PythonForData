{
    "cells": [
        {
            "metadata": {
                "collapsed": true
            },
            "cell_type": "markdown",
            "source": "<h1>Set</h1>"
        },
        {
            "metadata": {},
            "cell_type": "code",
            "source": "# Create a set\n\nset1 = {\"Alex\",\"Nguyen\",\"1997\",\"RnB\",\"reading\",\"culture\"}\nset1",
            "execution_count": 1,
            "outputs": [
                {
                    "output_type": "execute_result",
                    "execution_count": 1,
                    "data": {
                        "text/plain": "{'1997', 'Alex', 'Nguyen', 'RnB', 'culture', 'reading'}"
                    },
                    "metadata": {}
                }
            ]
        },
        {
            "metadata": {},
            "cell_type": "code",
            "source": "list_a=[12,'abc',[1,2,3]]\n",
            "execution_count": 3,
            "outputs": []
        },
        {
            "metadata": {},
            "cell_type": "code",
            "source": "set_a = set(list_a)",
            "execution_count": 4,
            "outputs": [
                {
                    "output_type": "error",
                    "ename": "TypeError",
                    "evalue": "unhashable type: 'list'",
                    "traceback": [
                        "\u001b[0;31m---------------------------------------------------------------------------\u001b[0m",
                        "\u001b[0;31mTypeError\u001b[0m                                 Traceback (most recent call last)",
                        "\u001b[0;32m<ipython-input-4-85317197a1c2>\u001b[0m in \u001b[0;36m<module>\u001b[0;34m\u001b[0m\n\u001b[0;32m----> 1\u001b[0;31m \u001b[0mset_a\u001b[0m \u001b[0;34m=\u001b[0m \u001b[0mset\u001b[0m\u001b[0;34m(\u001b[0m\u001b[0mlist_a\u001b[0m\u001b[0;34m)\u001b[0m\u001b[0;34m\u001b[0m\u001b[0;34m\u001b[0m\u001b[0m\n\u001b[0m",
                        "\u001b[0;31mTypeError\u001b[0m: unhashable type: 'list'"
                    ]
                }
            ]
        },
        {
            "metadata": {},
            "cell_type": "markdown",
            "source": "<h3>List is not a hashable type in Python . Dictionary keys must be immutable types and list is a mutable type.</h3>"
        },
        {
            "metadata": {},
            "cell_type": "code",
            "source": "del(list_a[[1,2,3]])",
            "execution_count": 6,
            "outputs": [
                {
                    "output_type": "error",
                    "ename": "TypeError",
                    "evalue": "list indices must be integers or slices, not list",
                    "traceback": [
                        "\u001b[0;31m---------------------------------------------------------------------------\u001b[0m",
                        "\u001b[0;31mTypeError\u001b[0m                                 Traceback (most recent call last)",
                        "\u001b[0;32m<ipython-input-6-32fd27ea9cd9>\u001b[0m in \u001b[0;36m<module>\u001b[0;34m\u001b[0m\n\u001b[0;32m----> 1\u001b[0;31m \u001b[0;32mdel\u001b[0m\u001b[0;34m(\u001b[0m\u001b[0mlist_a\u001b[0m\u001b[0;34m[\u001b[0m\u001b[0;34m[\u001b[0m\u001b[0;36m1\u001b[0m\u001b[0;34m,\u001b[0m\u001b[0;36m2\u001b[0m\u001b[0;34m,\u001b[0m\u001b[0;36m3\u001b[0m\u001b[0;34m]\u001b[0m\u001b[0;34m]\u001b[0m\u001b[0;34m)\u001b[0m\u001b[0;34m\u001b[0m\u001b[0;34m\u001b[0m\u001b[0m\n\u001b[0m",
                        "\u001b[0;31mTypeError\u001b[0m: list indices must be integers or slices, not list"
                    ]
                }
            ]
        },
        {
            "metadata": {},
            "cell_type": "code",
            "source": "list_a[2] = \"nic\"",
            "execution_count": 8,
            "outputs": []
        },
        {
            "metadata": {},
            "cell_type": "code",
            "source": "set_a=set(list_a)",
            "execution_count": 9,
            "outputs": []
        },
        {
            "metadata": {},
            "cell_type": "code",
            "source": "set_a",
            "execution_count": 10,
            "outputs": [
                {
                    "output_type": "execute_result",
                    "execution_count": 10,
                    "data": {
                        "text/plain": "{12, 'abc', 'nic'}"
                    },
                    "metadata": {}
                }
            ]
        },
        {
            "metadata": {},
            "cell_type": "code",
            "source": "#add keys\nset_a.add(\"Rnb\")\nset_a\n",
            "execution_count": 12,
            "outputs": [
                {
                    "output_type": "execute_result",
                    "execution_count": 12,
                    "data": {
                        "text/plain": "{12, 'Rnb', 'abc', 'nic'}"
                    },
                    "metadata": {}
                }
            ]
        },
        {
            "metadata": {},
            "cell_type": "code",
            "source": "#remove a key\nset_a.remove(\"nic\")\nset_a",
            "execution_count": 16,
            "outputs": [
                {
                    "output_type": "execute_result",
                    "execution_count": 16,
                    "data": {
                        "text/plain": "{12, 'Rnb', 'abc'}"
                    },
                    "metadata": {}
                }
            ]
        },
        {
            "metadata": {},
            "cell_type": "code",
            "source": "12 in set_a",
            "execution_count": 17,
            "outputs": [
                {
                    "output_type": "execute_result",
                    "execution_count": 17,
                    "data": {
                        "text/plain": "True"
                    },
                    "metadata": {}
                }
            ]
        },
        {
            "metadata": {},
            "cell_type": "code",
            "source": "set_b={\"day\",\"city\",\"country\", 42}",
            "execution_count": 18,
            "outputs": []
        },
        {
            "metadata": {},
            "cell_type": "code",
            "source": "set_b.add(\"Rnb\")\nset_b\n",
            "execution_count": 27,
            "outputs": [
                {
                    "output_type": "execute_result",
                    "execution_count": 27,
                    "data": {
                        "text/plain": "{42, 'RnB', 'Rnb', 'city', 'country', 'day'}"
                    },
                    "metadata": {}
                }
            ]
        },
        {
            "metadata": {},
            "cell_type": "code",
            "source": "#find intersection between set a and b\nset_b.remove(\"RnB\")\nintersect= set_a & set_b\nintersect",
            "execution_count": 28,
            "outputs": [
                {
                    "output_type": "execute_result",
                    "execution_count": 28,
                    "data": {
                        "text/plain": "{'Rnb'}"
                    },
                    "metadata": {}
                }
            ]
        },
        {
            "metadata": {},
            "cell_type": "code",
            "source": "#find differences between set a but not set b\nset_a.difference(set_b)",
            "execution_count": 30,
            "outputs": [
                {
                    "output_type": "execute_result",
                    "execution_count": 30,
                    "data": {
                        "text/plain": "{12, 'abc'}"
                    },
                    "metadata": {}
                }
            ]
        },
        {
            "metadata": {},
            "cell_type": "markdown",
            "source": "<img src=\"https://s3-api.us-geo.objectstorage.softlayer.net/cf-courses-data/CognitiveClass/PY0101EN/Chapter%202/Images/SetsLeft.png\" width=\"650\" />"
        },
        {
            "metadata": {},
            "cell_type": "code",
            "source": "set_b.difference(set_a)",
            "execution_count": 31,
            "outputs": [
                {
                    "output_type": "execute_result",
                    "execution_count": 31,
                    "data": {
                        "text/plain": "{42, 'city', 'country', 'day'}"
                    },
                    "metadata": {}
                }
            ]
        },
        {
            "metadata": {},
            "cell_type": "code",
            "source": "#union\nset_c=set_a.union(set_b)\nset_c\n",
            "execution_count": 32,
            "outputs": [
                {
                    "output_type": "execute_result",
                    "execution_count": 32,
                    "data": {
                        "text/plain": "{12, 42, 'Rnb', 'abc', 'city', 'country', 'day'}"
                    },
                    "metadata": {}
                }
            ]
        },
        {
            "metadata": {},
            "cell_type": "code",
            "source": "#check superset\nset(set_a).issuperset(set_b)",
            "execution_count": 33,
            "outputs": [
                {
                    "output_type": "execute_result",
                    "execution_count": 33,
                    "data": {
                        "text/plain": "False"
                    },
                    "metadata": {}
                }
            ]
        },
        {
            "metadata": {},
            "cell_type": "code",
            "source": "set(set_b).issuperset(set_a)",
            "execution_count": 34,
            "outputs": [
                {
                    "output_type": "execute_result",
                    "execution_count": 34,
                    "data": {
                        "text/plain": "False"
                    },
                    "metadata": {}
                }
            ]
        },
        {
            "metadata": {},
            "cell_type": "code",
            "source": "set({\"Rnb\",\"city\",42}).issuperset(set_b)",
            "execution_count": 35,
            "outputs": [
                {
                    "output_type": "execute_result",
                    "execution_count": 35,
                    "data": {
                        "text/plain": "False"
                    },
                    "metadata": {}
                }
            ]
        },
        {
            "metadata": {},
            "cell_type": "code",
            "source": "set({\"Rnb\",\"city\",42}).issubset(set_b)",
            "execution_count": 36,
            "outputs": [
                {
                    "output_type": "execute_result",
                    "execution_count": 36,
                    "data": {
                        "text/plain": "True"
                    },
                    "metadata": {}
                }
            ]
        },
        {
            "metadata": {},
            "cell_type": "code",
            "source": "A = [1, 2, 2, 1]  \nB = set([1, 2, 2, 1])\nprint(\"the sum of A is:\", sum(A))\nprint(\"the sum of B is:\", sum(B))",
            "execution_count": 37,
            "outputs": [
                {
                    "output_type": "stream",
                    "text": "the sum of A is: 6\nthe sum of B is: 3\n",
                    "name": "stdout"
                }
            ]
        },
        {
            "metadata": {},
            "cell_type": "markdown",
            "source": "<h3>Sum of set is different from sum of list</h3>"
        },
        {
            "metadata": {},
            "cell_type": "markdown",
            "source": "<h1>Conditions</h1>"
        },
        {
            "metadata": {},
            "cell_type": "code",
            "source": "#this is assign value to key\na=5",
            "execution_count": 43,
            "outputs": []
        },
        {
            "metadata": {},
            "cell_type": "code",
            "source": "a\n",
            "execution_count": 40,
            "outputs": [
                {
                    "output_type": "execute_result",
                    "execution_count": 40,
                    "data": {
                        "text/plain": "5"
                    },
                    "metadata": {}
                }
            ]
        },
        {
            "metadata": {},
            "cell_type": "code",
            "source": "#this is compare value of a to 6\na==6",
            "execution_count": 44,
            "outputs": [
                {
                    "output_type": "execute_result",
                    "execution_count": 44,
                    "data": {
                        "text/plain": "False"
                    },
                    "metadata": {}
                }
            ]
        },
        {
            "metadata": {},
            "cell_type": "code",
            "source": "a<6",
            "execution_count": 45,
            "outputs": [
                {
                    "output_type": "execute_result",
                    "execution_count": 45,
                    "data": {
                        "text/plain": "True"
                    },
                    "metadata": {}
                }
            ]
        },
        {
            "metadata": {},
            "cell_type": "code",
            "source": "#inequality\na!=6",
            "execution_count": 46,
            "outputs": [
                {
                    "output_type": "execute_result",
                    "execution_count": 46,
                    "data": {
                        "text/plain": "True"
                    },
                    "metadata": {}
                }
            ]
        },
        {
            "metadata": {},
            "cell_type": "code",
            "source": "#this also can be used to compare among strings\n\"Nguyen\"==\"Alex\"",
            "execution_count": 47,
            "outputs": [
                {
                    "output_type": "execute_result",
                    "execution_count": 47,
                    "data": {
                        "text/plain": "False"
                    },
                    "metadata": {}
                }
            ]
        },
        {
            "metadata": {},
            "cell_type": "code",
            "source": "#is you compare character, it is transered to compare ASCII code\n'a'>'A'",
            "execution_count": 48,
            "outputs": [
                {
                    "output_type": "execute_result",
                    "execution_count": 48,
                    "data": {
                        "text/plain": "True"
                    },
                    "metadata": {}
                }
            ]
        },
        {
            "metadata": {},
            "cell_type": "markdown",
            "source": "<h2>If Statement</h2>"
        },
        {
            "metadata": {},
            "cell_type": "code",
            "source": "name=\"nguyen dinh\"\nif name!=\"nguyen dinh\":\n    print(\"sorry, you are not my owner\")\n    \nprint(\"hello, welcome back! Alex\")",
            "execution_count": 49,
            "outputs": [
                {
                    "output_type": "stream",
                    "text": "hello, welcome back! Alex\n",
                    "name": "stdout"
                }
            ]
        },
        {
            "metadata": {},
            "cell_type": "code",
            "source": "name=\"nguyen hoc\"",
            "execution_count": 50,
            "outputs": []
        },
        {
            "metadata": {},
            "cell_type": "code",
            "source": "if name!=\"nguyen dinh\":\n    print(\"sorry, you are not my owner\")\n    \nelse: print(\"hello, welcome back! Alex\")",
            "execution_count": 52,
            "outputs": [
                {
                    "output_type": "stream",
                    "text": "sorry, you are not my owner\n",
                    "name": "stdout"
                }
            ]
        },
        {
            "metadata": {},
            "cell_type": "code",
            "source": "# Condition statement example\n\nalbum_year = 1980\n\nif(album_year > 1979) and (album_year < 1990):\n    print (\"Album year was in between 1980 and 1989\")\n    \nprint(\"\")\nprint(\"Do Stuff..\")",
            "execution_count": 53,
            "outputs": [
                {
                    "output_type": "stream",
                    "text": "Album year was in between 1980 and 1989\n\nDo Stuff..\n",
                    "name": "stdout"
                }
            ]
        },
        {
            "metadata": {},
            "cell_type": "code",
            "source": "# Condition statement example\n\nalbum_year = 1990\n\nif(album_year > 1979) and (album_year < 1990):\n    print (\"Album year was in between 1980 and 1989\")\nelse: print(\"this album was not made in 1980 and 1989\")",
            "execution_count": 54,
            "outputs": [
                {
                    "output_type": "stream",
                    "text": "this album was not made in 1980 and 1989\n",
                    "name": "stdout"
                }
            ]
        },
        {
            "metadata": {},
            "cell_type": "code",
            "source": "album_rate={\"Back in Black\":8.5}\nalbum_rate",
            "execution_count": 55,
            "outputs": [
                {
                    "output_type": "execute_result",
                    "execution_count": 55,
                    "data": {
                        "text/plain": "{'Back in Black': 8.5}"
                    },
                    "metadata": {}
                }
            ]
        },
        {
            "metadata": {},
            "cell_type": "code",
            "source": "if album_rate[\"Back in Black\"]>8:\n    print(\"This album is amazing!\")",
            "execution_count": 60,
            "outputs": [
                {
                    "output_type": "stream",
                    "text": "This album is amazing!\n",
                    "name": "stdout"
                }
            ]
        },
        {
            "metadata": {},
            "cell_type": "code",
            "source": "album_rate[\"Back in Black\"]=7\nif album_rate[\"Back in Black\"]>8:\n    print(\"This album is amazing!\")\nelse: print('This album is ok')",
            "execution_count": 62,
            "outputs": [
                {
                    "output_type": "stream",
                    "text": "This album is ok\n",
                    "name": "stdout"
                }
            ]
        },
        {
            "metadata": {},
            "cell_type": "code",
            "source": "album_year={\"Back in Black\":1997}\nalbum_year",
            "execution_count": 66,
            "outputs": [
                {
                    "output_type": "execute_result",
                    "execution_count": 66,
                    "data": {
                        "text/plain": "{'Back in Black': 1997}"
                    },
                    "metadata": {}
                }
            ]
        },
        {
            "metadata": {},
            "cell_type": "code",
            "source": "if album_year[\"Back in Black\"]>=1980:\n    print(\"This album is released already!\")",
            "execution_count": 67,
            "outputs": [
                {
                    "output_type": "stream",
                    "text": "This album is released already!\n",
                    "name": "stdout"
                }
            ]
        },
        {
            "metadata": {},
            "cell_type": "markdown",
            "source": "<h1>LOOPS</h1>"
        },
        {
            "metadata": {},
            "cell_type": "code",
            "source": "# Use the range or list [0,1,2]\n\nrange(3)",
            "execution_count": 68,
            "outputs": [
                {
                    "output_type": "execute_result",
                    "execution_count": 68,
                    "data": {
                        "text/plain": "range(0, 3)"
                    },
                    "metadata": {}
                }
            ]
        },
        {
            "metadata": {},
            "cell_type": "code",
            "source": "year=[1997,1998,1999,2000,2001]\nN=len(year)\nfor i in range(N):\n    if year[i]>=2000:\n        print(year[i])",
            "execution_count": 73,
            "outputs": [
                {
                    "output_type": "stream",
                    "text": "2000\n2001\n",
                    "name": "stdout"
                }
            ]
        },
        {
            "metadata": {},
            "cell_type": "markdown",
            "source": "<img src=\"https://s3-api.us-geo.objectstorage.softlayer.net/cf-courses-data/CognitiveClass/PY0101EN/Chapter%203/Images/LoopsForRange.gif\" width=\"800\" />\n"
        },
        {
            "metadata": {},
            "cell_type": "code",
            "source": "for i in range(0,8):\n    print(i)",
            "execution_count": 2,
            "outputs": [
                {
                    "output_type": "stream",
                    "text": "0\n1\n2\n3\n4\n5\n6\n7\n",
                    "name": "stdout"
                }
            ]
        },
        {
            "metadata": {},
            "cell_type": "code",
            "source": "date=[1997,1998,1999,2000,2001]",
            "execution_count": 9,
            "outputs": []
        },
        {
            "metadata": {},
            "cell_type": "code",
            "source": "for year in date:\n    print(year)",
            "execution_count": 10,
            "outputs": [
                {
                    "output_type": "stream",
                    "text": "1997\n1998\n1999\n2000\n2001\n",
                    "name": "stdout"
                }
            ]
        },
        {
            "metadata": {},
            "cell_type": "code",
            "source": "i=0\nyear=0\nwhile(year!=1999):\n    year=date[i]\n    i+=1\n    print(year)\nprint(\"it took\",i,\" repetitions to get out of loop.\")",
            "execution_count": 12,
            "outputs": [
                {
                    "output_type": "stream",
                    "text": "1997\n1998\n1999\nit took 3  repetitions to get out of loop.\n",
                    "name": "stdout"
                }
            ]
        },
        {
            "metadata": {},
            "cell_type": "code",
            "source": "for i in range(-5,6):\n    print(i)",
            "execution_count": 13,
            "outputs": [
                {
                    "output_type": "stream",
                    "text": "-5\n-4\n-3\n-2\n-1\n0\n1\n2\n3\n4\n5\n",
                    "name": "stdout"
                }
            ]
        },
        {
            "metadata": {},
            "cell_type": "code",
            "source": "Genres=[ 'rock', 'R&B', 'Soundtrack', 'R&B', 'soul', 'pop']",
            "execution_count": 14,
            "outputs": []
        },
        {
            "metadata": {},
            "cell_type": "code",
            "source": "for genre in Genres:\n    print(genre)",
            "execution_count": 15,
            "outputs": [
                {
                    "output_type": "stream",
                    "text": "rock\nR&B\nSoundtrack\nR&B\nsoul\npop\n",
                    "name": "stdout"
                }
            ]
        },
        {
            "metadata": {},
            "cell_type": "code",
            "source": "i",
            "execution_count": 16,
            "outputs": [
                {
                    "output_type": "execute_result",
                    "execution_count": 16,
                    "data": {
                        "text/plain": "5"
                    },
                    "metadata": {}
                }
            ]
        },
        {
            "metadata": {},
            "cell_type": "code",
            "source": "for i in Genres:\n    print(i)",
            "execution_count": 18,
            "outputs": [
                {
                    "output_type": "stream",
                    "text": "rock\nR&B\nSoundtrack\nR&B\nsoul\npop\n",
                    "name": "stdout"
                }
            ]
        },
        {
            "metadata": {},
            "cell_type": "code",
            "source": "year =[1990,2016,2017,2018,1809]\nfor i in year:\n    print(i)",
            "execution_count": 19,
            "outputs": [
                {
                    "output_type": "stream",
                    "text": "1990\n2016\n2017\n2018\n1809\n",
                    "name": "stdout"
                }
            ]
        },
        {
            "metadata": {},
            "cell_type": "code",
            "source": "for i in year:\n    if i>2000:\n        print(i)",
            "execution_count": 20,
            "outputs": [
                {
                    "output_type": "stream",
                    "text": "2016\n2017\n2018\n",
                    "name": "stdout"
                }
            ]
        },
        {
            "metadata": {},
            "cell_type": "code",
            "source": "PlayListRatings = [10, 9.5, 10, 8, 7.5, 5, 10, 10]\nfor i in PlayListRatings:\n    if i>6:\n        print(i)\n    else: break\n        ",
            "execution_count": 51,
            "outputs": [
                {
                    "output_type": "stream",
                    "text": "10\n9.5\n10\n8\n7.5\n",
                    "name": "stdout"
                }
            ]
        },
        {
            "metadata": {},
            "cell_type": "code",
            "source": "squares=['orange', 'orange', 'purple', 'blue ', 'orange']\n\n",
            "execution_count": 53,
            "outputs": []
        },
        {
            "metadata": {},
            "cell_type": "code",
            "source": "new_sqr=[]\nfor color in squares:\n    if(color=='orange'):\n        new_sqr.append(color)\n    else: break\nprint(new_sqr)   ",
            "execution_count": 71,
            "outputs": [
                {
                    "output_type": "stream",
                    "text": "['orange', 'orange']\n",
                    "name": "stdout"
                }
            ]
        },
        {
            "metadata": {},
            "cell_type": "code",
            "source": "squares=['orange', 'orange', 'purple', 'blue ', 'orange']\n\ni=0\nnew_sqr=[]\ncolor = squares[i]\nwhile(color=='orange'):\n    new_sqer].append(squares[i])\n    i=i+1\nprint(new_sqr)\n",
            "execution_count": 2,
            "outputs": [
                {
                    "output_type": "error",
                    "ename": "KeyboardInterrupt",
                    "evalue": "",
                    "traceback": [
                        "\u001b[0;31m---------------------------------------------------------------------------\u001b[0m",
                        "\u001b[0;31mKeyboardInterrupt\u001b[0m                         Traceback (most recent call last)",
                        "\u001b[0;32m<ipython-input-2-6dfe6a4a7876>\u001b[0m in \u001b[0;36m<module>\u001b[0;34m\u001b[0m\n\u001b[1;32m      7\u001b[0m \u001b[0mcolor\u001b[0m \u001b[0;34m=\u001b[0m \u001b[0msquares\u001b[0m\u001b[0;34m[\u001b[0m\u001b[0mi\u001b[0m\u001b[0;34m]\u001b[0m\u001b[0;34m\u001b[0m\u001b[0;34m\u001b[0m\u001b[0m\n\u001b[1;32m      8\u001b[0m \u001b[0;32mwhile\u001b[0m\u001b[0;34m(\u001b[0m\u001b[0mcolor\u001b[0m\u001b[0;34m==\u001b[0m\u001b[0;34m'orange'\u001b[0m\u001b[0;34m)\u001b[0m\u001b[0;34m:\u001b[0m\u001b[0;34m\u001b[0m\u001b[0;34m\u001b[0m\u001b[0m\n\u001b[0;32m----> 9\u001b[0;31m     \u001b[0mnew_sqr\u001b[0m\u001b[0;34m.\u001b[0m\u001b[0mappend\u001b[0m\u001b[0;34m(\u001b[0m\u001b[0mcolor\u001b[0m\u001b[0;34m)\u001b[0m\u001b[0;34m\u001b[0m\u001b[0;34m\u001b[0m\u001b[0m\n\u001b[0m\u001b[1;32m     10\u001b[0m     \u001b[0mi\u001b[0m\u001b[0;34m=\u001b[0m\u001b[0mi\u001b[0m\u001b[0;34m+\u001b[0m\u001b[0;36m1\u001b[0m\u001b[0;34m\u001b[0m\u001b[0;34m\u001b[0m\u001b[0m\n\u001b[1;32m     11\u001b[0m \u001b[0mprint\u001b[0m\u001b[0;34m(\u001b[0m\u001b[0mnew_sqr\u001b[0m\u001b[0;34m)\u001b[0m\u001b[0;34m\u001b[0m\u001b[0;34m\u001b[0m\u001b[0m\n",
                        "\u001b[0;31mKeyboardInterrupt\u001b[0m: "
                    ]
                }
            ]
        },
        {
            "metadata": {},
            "cell_type": "code",
            "source": "",
            "execution_count": null,
            "outputs": []
        }
    ],
    "metadata": {
        "kernelspec": {
            "name": "python3",
            "display_name": "Python 3.7",
            "language": "python"
        },
        "language_info": {
            "name": "python",
            "version": "3.7.9",
            "mimetype": "text/x-python",
            "codemirror_mode": {
                "name": "ipython",
                "version": 3
            },
            "pygments_lexer": "ipython3",
            "nbconvert_exporter": "python",
            "file_extension": ".py"
        }
    },
    "nbformat": 4,
    "nbformat_minor": 1
}